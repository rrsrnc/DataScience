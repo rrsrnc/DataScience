{
  "nbformat": 4,
  "nbformat_minor": 0,
  "metadata": {
    "colab": {
      "provenance": [],
      "authorship_tag": "ABX9TyNMOPCfcP1jmu67EBVlat4X",
      "include_colab_link": true
    },
    "kernelspec": {
      "name": "python3",
      "display_name": "Python 3"
    },
    "language_info": {
      "name": "python"
    }
  },
  "cells": [
    {
      "cell_type": "markdown",
      "metadata": {
        "id": "view-in-github",
        "colab_type": "text"
      },
      "source": [
        "<a href=\"https://colab.research.google.com/github/rrsrnc/DataScience/blob/main/week4.ipynb\" target=\"_parent\"><img src=\"https://colab.research.google.com/assets/colab-badge.svg\" alt=\"Open In Colab\"/></a>"
      ]
    },
    {
      "cell_type": "markdown",
      "source": [
        "# Assignment 1\n",
        "\n"
      ],
      "metadata": {
        "id": "HFmNO-iT2u_A"
      }
    },
    {
      "cell_type": "code",
      "execution_count": null,
      "metadata": {
        "colab": {
          "base_uri": "https://localhost:8080/"
        },
        "id": "Ne7rs7V2tnjl",
        "outputId": "bb60346f-1301-4616-dd1f-657baa7802d7"
      },
      "outputs": [
        {
          "output_type": "stream",
          "name": "stdout",
          "text": [
            "Enter your weight in kgs65\n",
            "What is your preferred unit of height? F=feet and M=metresM\n",
            "enter your height in meters1.2\n",
            "Very overWeight: 45.13888888888889\n"
          ]
        }
      ],
      "source": [
        "weight=float(input(\"Enter your weight in kgs\"))\n",
        "unit=input(\"What is your preferred unit of height? F=feet and M=metres\")\n",
        "if unit==\"F\":\n",
        "  print(\"You will enter weight in feet and inches\")\n",
        "  feet=int(input(\"Enter feet\"))\n",
        "  inches=int(input(\"Enter Inches\"))\n",
        "  height=(feet*12+inches)*2.54/100\n",
        "elif unit == \"M\":\n",
        "  meters=float(input(\"enter your height in meters\"))\n",
        "  height=meters\n",
        "\n",
        "bmi=weight/(height**2)\n",
        "\n",
        "if bmi<18.5:\n",
        "  print(\"underweight:\",bmi)\n",
        "elif bmi>18.5 and bmi<25:\n",
        "  print(\"normal weight:\",bmi)\n",
        "elif bmi>25 and bmi<30:\n",
        "  print(\"Overweight:\",bmi)\n",
        "else:\n",
        "  print(\"Very overWeight:\",bmi)\n"
      ]
    },
    {
      "cell_type": "markdown",
      "source": [
        "# Assignment 2"
      ],
      "metadata": {
        "id": "17lxx8Us4Fyx"
      }
    },
    {
      "cell_type": "markdown",
      "source": [
        "1. Factorial"
      ],
      "metadata": {
        "id": "K-Hoh-KS4QwZ"
      }
    },
    {
      "cell_type": "code",
      "source": [
        "def factorial(number):\n",
        "  fact=1\n",
        "  if number<=1:\n",
        "    return fact\n",
        "  else:\n",
        "    for i in range(2,number+1):\n",
        "      fact*=i\n",
        "  return fact"
      ],
      "metadata": {
        "id": "N1az5gXT4S0b"
      },
      "execution_count": null,
      "outputs": []
    },
    {
      "cell_type": "code",
      "source": [
        "factorial(5)"
      ],
      "metadata": {
        "colab": {
          "base_uri": "https://localhost:8080/"
        },
        "id": "-iqleiFD41on",
        "outputId": "e147e808-5e70-42de-b6e6-9259d277a4c0"
      },
      "execution_count": null,
      "outputs": [
        {
          "output_type": "execute_result",
          "data": {
            "text/plain": [
              "120"
            ]
          },
          "metadata": {},
          "execution_count": 10
        }
      ]
    },
    {
      "cell_type": "code",
      "source": [
        "def factorial_recursive(number):\n",
        "  if number<=1:\n",
        "    return 1\n",
        "  else:\n",
        "    return number*factorial_recursive(number-1)"
      ],
      "metadata": {
        "id": "6lgY1CRY5Lj2"
      },
      "execution_count": null,
      "outputs": []
    },
    {
      "cell_type": "code",
      "source": [
        "factorial_recursive(5)"
      ],
      "metadata": {
        "colab": {
          "base_uri": "https://localhost:8080/"
        },
        "id": "Fw1AHq8l5b7m",
        "outputId": "e03e1f29-24e9-4bc1-97e2-9726f87d04c3"
      },
      "execution_count": null,
      "outputs": [
        {
          "output_type": "execute_result",
          "data": {
            "text/plain": [
              "120"
            ]
          },
          "metadata": {},
          "execution_count": 12
        }
      ]
    },
    {
      "cell_type": "markdown",
      "source": [
        "2. Write a function to compute $\\frac{x^n}{n!}$ given a float $x$ and natural number $n$ as arguments"
      ],
      "metadata": {
        "id": "AiC5KMlj6J-C"
      }
    },
    {
      "cell_type": "code",
      "source": [
        "def mathfunction(x,n):\n",
        "  result=(x**n)/factorial(n)\n",
        "  return result"
      ],
      "metadata": {
        "id": "e9YoRgxR5qzi"
      },
      "execution_count": null,
      "outputs": []
    },
    {
      "cell_type": "code",
      "source": [
        "mathfunction(2,3)"
      ],
      "metadata": {
        "colab": {
          "base_uri": "https://localhost:8080/"
        },
        "id": "p1Polm9I59Re",
        "outputId": "b1fe4837-b485-4035-c6e2-166bdb0922df"
      },
      "execution_count": null,
      "outputs": [
        {
          "output_type": "execute_result",
          "data": {
            "text/plain": [
              "1.3333333333333333"
            ]
          },
          "metadata": {},
          "execution_count": 14
        }
      ]
    },
    {
      "cell_type": "markdown",
      "source": [
        " 3. Write a function to iteratively sum up the value $\\frac{x^n}{n!}$ from $n = 1$ to a given $N$ for a given $x$, i.e.,\n",
        "$$ F(x, N) = 1 + \\sum_{i = 1}^N \\dfrac{x^n}{n!}$$"
      ],
      "metadata": {
        "id": "XpWkrdPA6hbY"
      }
    },
    {
      "cell_type": "code",
      "source": [
        "def cal_sum(x,n):\n",
        "  result=1\n",
        "  for i in range(1,n+1):\n",
        "    result+=mathfunction(x,i)\n",
        "  return result"
      ],
      "metadata": {
        "id": "tqkH4l546g-5"
      },
      "execution_count": null,
      "outputs": []
    },
    {
      "cell_type": "code",
      "source": [
        "cal_sum(2,3)"
      ],
      "metadata": {
        "colab": {
          "base_uri": "https://localhost:8080/"
        },
        "id": "FKaaQFaU7YCF",
        "outputId": "6a78d6e4-84fb-4bcd-d00b-80d4c29c9f81"
      },
      "execution_count": null,
      "outputs": [
        {
          "output_type": "execute_result",
          "data": {
            "text/plain": [
              "6.333333333333333"
            ]
          },
          "metadata": {},
          "execution_count": 16
        }
      ]
    },
    {
      "cell_type": "markdown",
      "source": [
        "4. Write a function to iteratively sum up the value $\\frac{x^n}{n!}$ from $n = 1$ to a chosen value of $N'$ such that $$F(x, N') - F(x, N' - 1) < \\epsilon$$ for given real number $x$ and positive small number $\\epsilon$\n"
      ],
      "metadata": {
        "id": "IvJti2QL6qPh"
      }
    },
    {
      "cell_type": "code",
      "source": [
        "def sumEplsolon(x,epsolon):\n",
        "  i=1\n",
        "  var=epsolon\n",
        "  sum=1\n",
        "  while var>=epsolon:\n",
        "    var=mathfunction(x,i)\n",
        "    sum+=var\n",
        "    i+=1\n",
        "  return sum\n",
        "\n"
      ],
      "metadata": {
        "id": "6saQ6rWd6mwZ"
      },
      "execution_count": null,
      "outputs": []
    },
    {
      "cell_type": "code",
      "source": [
        "sumEplsolon(2,0.01)"
      ],
      "metadata": {
        "colab": {
          "base_uri": "https://localhost:8080/"
        },
        "id": "vHyIbRGbYajz",
        "outputId": "f6f0f743-8ff6-4e47-d20e-0ca3ba433ce3"
      },
      "execution_count": null,
      "outputs": [
        {
          "output_type": "execute_result",
          "data": {
            "text/plain": [
              "7.387301587301587"
            ]
          },
          "metadata": {},
          "execution_count": 20
        }
      ]
    },
    {
      "cell_type": "markdown",
      "source": [
        "5. Choose two real numbers $p$ and $q$ and compute the following two values\n",
        "$$ v_1 = F(p, 100) * F(q, 100) $$\n",
        "$$ v_2 = F(p + q, 100) $$\n",
        "Compute the difference $v_1 - v_2$ and comment on what you see."
      ],
      "metadata": {
        "id": "0SpX08Ug6tc9"
      }
    },
    {
      "cell_type": "code",
      "source": [
        "p=-1.5\n",
        "q=7.1\n",
        "v1= cal_sum(p,100)*cal_sum(q,100)\n",
        "v2=cal_sum(p+q,100)\n",
        "v1-v2"
      ],
      "metadata": {
        "colab": {
          "base_uri": "https://localhost:8080/"
        },
        "id": "1JEbmeji6tCZ",
        "outputId": "1e4c5c29-540c-4f2c-9575-a5a3fcdd9ce5"
      },
      "execution_count": null,
      "outputs": [
        {
          "output_type": "execute_result",
          "data": {
            "text/plain": [
              "-1.1368683772161603e-13"
            ]
          },
          "metadata": {},
          "execution_count": 23
        }
      ]
    }
  ]
}