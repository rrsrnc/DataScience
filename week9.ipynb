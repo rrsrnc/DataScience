{
  "nbformat": 4,
  "nbformat_minor": 0,
  "metadata": {
    "colab": {
      "provenance": [],
      "authorship_tag": "ABX9TyNIsyUTzZIRVcmUz1Pcld7J",
      "include_colab_link": true
    },
    "kernelspec": {
      "name": "python3",
      "display_name": "Python 3"
    },
    "language_info": {
      "name": "python"
    }
  },
  "cells": [
    {
      "cell_type": "markdown",
      "metadata": {
        "id": "view-in-github",
        "colab_type": "text"
      },
      "source": [
        "<a href=\"https://colab.research.google.com/github/rrsrnc/DataScience/blob/main/week9.ipynb\" target=\"_parent\"><img src=\"https://colab.research.google.com/assets/colab-badge.svg\" alt=\"Open In Colab\"/></a>"
      ]
    },
    {
      "cell_type": "code",
      "source": [
        "import numpy as np"
      ],
      "metadata": {
        "id": "0BJn5-rZ1meL"
      },
      "execution_count": 50,
      "outputs": []
    },
    {
      "cell_type": "markdown",
      "source": [
        "scores  mean"
      ],
      "metadata": {
        "id": "NiL2cqTT52kg"
      }
    },
    {
      "cell_type": "code",
      "execution_count": 51,
      "metadata": {
        "colab": {
          "base_uri": "https://localhost:8080/"
        },
        "id": "vP049NiK0L-Z",
        "outputId": "5bdd1da8-b158-4346-81a2-b251e86ba758"
      },
      "outputs": [
        {
          "output_type": "stream",
          "name": "stdout",
          "text": [
            "\tSachin Tendulkar\tRahul Dravid\tIndia\n",
            "0\t100\t78\t342\n",
            "1\t11\t62\t191\n",
            "2\t8\t85\t252\n",
            "3\t71\t24\t307\n",
            "4\t104\t17\t229\n",
            "5\t18\t104\t246\n",
            "6\t8\t76\t226\n",
            "7\t86\t74\t288\n",
            "8\t12\t60\t216\n"
          ]
        }
      ],
      "source": [
        "!head cric_data.tsv"
      ]
    },
    {
      "cell_type": "code",
      "source": [
        "data= np.genfromtxt(\"cric_data.tsv\",delimiter=\"\\t\",skip_header=1,usecols=(1,2,3))\n",
        "sachin=data[:,0]\n",
        "rahul=data[:,1]\n",
        "india=data[:,2]\n",
        "np.mean(data,axis=0)\n",
        "np.median(data,axis=0)\n"
      ],
      "metadata": {
        "colab": {
          "base_uri": "https://localhost:8080/"
        },
        "id": "8bXeQaGu1tIs",
        "outputId": "8d4734a5-a951-47c6-a8ee-84338ea985f5"
      },
      "execution_count": 98,
      "outputs": [
        {
          "output_type": "execute_result",
          "data": {
            "text/plain": [
              "array([ 27.,  22., 216.])"
            ]
          },
          "metadata": {},
          "execution_count": 98
        }
      ]
    },
    {
      "cell_type": "code",
      "source": [
        "def stats(col):\n",
        "  mean=np.mean(col)\n",
        "  median=np.median(col)\n",
        "  percentiles=np.percentile(col,[25,75])\n",
        "  iqr=percentiles[1]-percentiles[0]\n",
        "  print(\"mean:\",mean)\n",
        "  print(\"median:\",median)\n",
        "  print(\"iqr:\",iqr)"
      ],
      "metadata": {
        "id": "IRDCtAX__yws"
      },
      "execution_count": 91,
      "outputs": []
    },
    {
      "cell_type": "code",
      "source": [
        "stats(sachin)"
      ],
      "metadata": {
        "colab": {
          "base_uri": "https://localhost:8080/"
        },
        "id": "7YZiWhcKARUC",
        "outputId": "94116efe-3f7d-4939-c984-97e8ac12604c"
      },
      "execution_count": 93,
      "outputs": [
        {
          "output_type": "stream",
          "name": "stdout",
          "text": [
            "mean: 39.87555555555556\n",
            "median: 27.0\n",
            "iqr: 57.0\n"
          ]
        }
      ]
    },
    {
      "cell_type": "code",
      "source": [
        "stats(rahul)"
      ],
      "metadata": {
        "colab": {
          "base_uri": "https://localhost:8080/"
        },
        "id": "vOx9VNCSAkVd",
        "outputId": "989b42fa-c5e8-45f9-f659-4126b6663e16"
      },
      "execution_count": 94,
      "outputs": [
        {
          "output_type": "stream",
          "name": "stdout",
          "text": [
            "mean: 32.062222222222225\n",
            "median: 22.0\n",
            "iqr: 46.0\n"
          ]
        }
      ]
    },
    {
      "cell_type": "code",
      "source": [
        "stats(india)"
      ],
      "metadata": {
        "colab": {
          "base_uri": "https://localhost:8080/"
        },
        "id": "lfkuGU2HAlhS",
        "outputId": "7e4aad82-b8a4-45cd-ac09-37ce2065389e"
      },
      "execution_count": 95,
      "outputs": [
        {
          "output_type": "stream",
          "name": "stdout",
          "text": [
            "mean: 220.79555555555555\n",
            "median: 216.0\n",
            "iqr: 98.0\n"
          ]
        }
      ]
    },
    {
      "cell_type": "markdown",
      "source": [
        "sachin histogram"
      ],
      "metadata": {
        "id": "rje5iZqh5ze3"
      }
    },
    {
      "cell_type": "code",
      "source": [
        "np.histogram(sachin,bins=10)"
      ],
      "metadata": {
        "colab": {
          "base_uri": "https://localhost:8080/"
        },
        "id": "n0_5URtU5coE",
        "outputId": "1eb055ef-0f08-4f65-d084-5bb25bf8cab3"
      },
      "execution_count": 53,
      "outputs": [
        {
          "output_type": "execute_result",
          "data": {
            "text/plain": [
              "(array([99, 36, 28, 16, 11, 17,  8,  8,  1,  1]),\n",
              " array([  0. ,  18.6,  37.2,  55.8,  74.4,  93. , 111.6, 130.2, 148.8,\n",
              "        167.4, 186. ]))"
            ]
          },
          "metadata": {},
          "execution_count": 53
        }
      ]
    },
    {
      "cell_type": "markdown",
      "source": [
        "sachin score mean with group of 25 macthes\n"
      ],
      "metadata": {
        "id": "XFvFQYYp6-jH"
      }
    },
    {
      "cell_type": "code",
      "source": [
        "sachinMeanGrp=np.mean(sachin.reshape(9,25),axis=1)\n",
        "print(sachinMeanGrp)"
      ],
      "metadata": {
        "colab": {
          "base_uri": "https://localhost:8080/"
        },
        "id": "MTimPqw757LX",
        "outputId": "db09efa4-34d5-44a8-93d0-40e1f5a8855d"
      },
      "execution_count": 101,
      "outputs": [
        {
          "output_type": "stream",
          "name": "stdout",
          "text": [
            "[33.96 49.4  38.48 40.16 39.36 38.2  44.6  39.52 35.2 ]\n"
          ]
        }
      ]
    },
    {
      "cell_type": "markdown",
      "source": [
        "sachin score mean where he scored a century"
      ],
      "metadata": {
        "id": "tc-yH8np9zmg"
      }
    },
    {
      "cell_type": "code",
      "source": [
        "sachinCenturyScore=sachin[sachin>=100]\n",
        "meanSachinCenturyScore=np.mean(sachinCenturyScore)\n",
        "print(meanSachinCenturyScore)"
      ],
      "metadata": {
        "colab": {
          "base_uri": "https://localhost:8080/"
        },
        "id": "wyhakJbK9yzW",
        "outputId": "d4111638-53e9-4c70-b5cb-0c262ab2e8bc"
      },
      "execution_count": 102,
      "outputs": [
        {
          "output_type": "stream",
          "name": "stdout",
          "text": [
            "125.0\n"
          ]
        }
      ]
    },
    {
      "cell_type": "markdown",
      "source": [
        "sachin mean score when rahul scored less than 10"
      ],
      "metadata": {
        "id": "-BByZMMI-of6"
      }
    },
    {
      "cell_type": "code",
      "source": [
        "sachinOverrahul=sachin[rahul<=10]\n",
        "meanSachinOverRahul=np.mean(sachinOverrahul)\n",
        "print(meanSachinOverRahul)"
      ],
      "metadata": {
        "colab": {
          "base_uri": "https://localhost:8080/"
        },
        "id": "q2O9sGhH-TC4",
        "outputId": "ba657081-9b49-4e65-9f97-e956eb86be83"
      },
      "execution_count": 104,
      "outputs": [
        {
          "output_type": "stream",
          "name": "stdout",
          "text": [
            "40.2112676056338\n"
          ]
        }
      ]
    },
    {
      "cell_type": "code",
      "source": [
        "indiaQuartiles=np.percentile(india,[25,50,75,100])\n",
        "print(indiaQuartiles)"
      ],
      "metadata": {
        "colab": {
          "base_uri": "https://localhost:8080/"
        },
        "id": "p0tQGSC-CzD7",
        "outputId": "f36cd290-b4a5-4cdd-fe3f-0bc277cb6b71"
      },
      "execution_count": 109,
      "outputs": [
        {
          "output_type": "stream",
          "name": "stdout",
          "text": [
            "[175. 216. 273. 499.]\n"
          ]
        }
      ]
    },
    {
      "cell_type": "code",
      "source": [
        "sachine1Q=np.mean(sachin[india<indiaQuartiles[0]])\n",
        "# sachine2Q=np.mean(sachin[(india>indiaQuartiles[0]) & (india<=indiaQuartiles[1])])\n",
        "# sachine3Q=np.mean(sachin[(india>indiaQuartiles[2]) & (india<=indiaQuartiles[3])])\n",
        "sachine2Q=np.mean(sachin[(india<indiaQuartiles[1])])\n",
        "sachine3Q=np.mean(sachin[(india<indiaQuartiles[2])])\n",
        "sachine4Q=np.mean(sachin[(india<indiaQuartiles[3])])\n",
        "print(sachine1Q)\n",
        "print(sachine2Q)\n",
        "print(sachine3Q)\n",
        "print(sachine4Q)\n"
      ],
      "metadata": {
        "colab": {
          "base_uri": "https://localhost:8080/"
        },
        "id": "xegtACH9DSHX",
        "outputId": "2adc19ec-a099-41ca-f67f-1bc72298f3ff"
      },
      "execution_count": 121,
      "outputs": [
        {
          "output_type": "stream",
          "name": "stdout",
          "text": [
            "19.672727272727272\n",
            "28.18018018018018\n",
            "31.688622754491018\n",
            "39.799107142857146\n"
          ]
        }
      ]
    },
    {
      "cell_type": "code",
      "source": [
        "indices=india<indiaQuartiles.reshape(4,1)\n",
        "for i in range(4):\n",
        "  print(np.mean(sachin[indices[i,:]]))\n"
      ],
      "metadata": {
        "colab": {
          "base_uri": "https://localhost:8080/"
        },
        "id": "3w6npqHBDONy",
        "outputId": "1c76aea8-f01f-491d-dd18-f44f14f5e0c0"
      },
      "execution_count": 142,
      "outputs": [
        {
          "output_type": "stream",
          "name": "stdout",
          "text": [
            "19.672727272727272\n",
            "28.18018018018018\n",
            "31.688622754491018\n",
            "39.799107142857146\n"
          ]
        }
      ]
    },
    {
      "cell_type": "code",
      "source": [
        "snr=data[:,0:2]\n",
        "higherIndices=np.argmax(snr,axis=1)\n",
        "np.where(higherIndices==0,\"sachin\",\"rahul\")"
      ],
      "metadata": {
        "id": "7yNc3SzxIQf7"
      },
      "execution_count": null,
      "outputs": []
    },
    {
      "cell_type": "markdown",
      "source": [
        "matches taken to score 1000 and so on"
      ],
      "metadata": {
        "id": "12RL78stKeUL"
      }
    },
    {
      "cell_type": "code",
      "source": [
        "sc=np.cumsum(sachin)\n",
        "np.histogram(sc,bins=np.arange(0,10000,1000))"
      ],
      "metadata": {
        "colab": {
          "base_uri": "https://localhost:8080/"
        },
        "id": "Xed6X-xiKROQ",
        "outputId": "d9702b21-59f9-4e48-a2e6-987cfa2e2a1c"
      },
      "execution_count": 152,
      "outputs": [
        {
          "output_type": "execute_result",
          "data": {
            "text/plain": [
              "(array([29, 18, 26, 25, 26, 26, 23, 22, 30]),\n",
              " array([   0, 1000, 2000, 3000, 4000, 5000, 6000, 7000, 8000, 9000]))"
            ]
          },
          "metadata": {},
          "execution_count": 152
        }
      ]
    }
  ]
}